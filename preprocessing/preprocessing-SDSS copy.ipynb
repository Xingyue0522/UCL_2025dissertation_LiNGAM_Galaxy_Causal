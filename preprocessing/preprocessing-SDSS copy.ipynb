{
 "cells": [
  {
   "cell_type": "markdown",
   "id": "9828addc",
   "metadata": {},
   "source": [
    "The link to the SDSS data is here: https://deepdip.iap.fr/#item/60ef1e05be2b8ebb048d951d\n",
    "\n"
   ]
  },
  {
   "cell_type": "code",
   "execution_count": 44,
   "id": "f1f0f485",
   "metadata": {},
   "outputs": [],
   "source": [
    "# import zipfile\n",
    "# import numpy as np\n",
    "# import pandas as pd\n",
    "\n",
    "# with zipfile.ZipFile('sdss.npz') as npz:\n",
    "#     with npz.open('labels.npy') as f:\n",
    "#         labels = np.load(f)  # Only unzip labels.npy\n",
    "\n",
    "# df_labels = pd.DataFrame(labels)\n",
    "# df_labels.to_csv('sdss_labels.csv', index=False)\n"
   ]
  },
  {
   "cell_type": "markdown",
   "id": "b61c0320",
   "metadata": {},
   "source": [
    "We have run the entire dataset and saved sdss_labels.csv to avoid excessive memory usage. When running here, you only need to read the label file."
   ]
  },
  {
   "cell_type": "code",
   "execution_count": 45,
   "id": "715bbfb7",
   "metadata": {},
   "outputs": [
    {
     "name": "stdout",
     "output_type": "stream",
     "text": [
      "Shape: (659857, 64)\n",
      "<class 'pandas.core.frame.DataFrame'>\n",
      "RangeIndex: 659857 entries, 0 to 659856\n",
      "Data columns (total 64 columns):\n",
      " #   Column            Non-Null Count   Dtype  \n",
      "---  ------            --------------   -----  \n",
      " 0   imageID           659857 non-null  int64  \n",
      " 1   specObjID         659857 non-null  int64  \n",
      " 2   bestObjID         659857 non-null  int64  \n",
      " 3   class             659857 non-null  object \n",
      " 4   subClass          659857 non-null  object \n",
      " 5   z                 659857 non-null  float64\n",
      " 6   zErr              659857 non-null  float64\n",
      " 7   objID             659857 non-null  int64  \n",
      " 8   type              659857 non-null  int64  \n",
      " 9   flags             659857 non-null  int64  \n",
      " 10  ra                659857 non-null  float64\n",
      " 11  dec               659857 non-null  float64\n",
      " 12  l                 659857 non-null  float64\n",
      " 13  b                 659857 non-null  float64\n",
      " 14  dered_petro_u     659857 non-null  float64\n",
      " 15  dered_petro_g     659857 non-null  float64\n",
      " 16  dered_petro_r     659857 non-null  float64\n",
      " 17  dered_petro_i     659857 non-null  float64\n",
      " 18  dered_petro_z     659857 non-null  float64\n",
      " 19  petroMagErr_u     659857 non-null  float64\n",
      " 20  petroMagErr_g     659857 non-null  float64\n",
      " 21  petroMagErr_r     659857 non-null  float64\n",
      " 22  petroMagErr_i     659857 non-null  float64\n",
      " 23  petroMagErr_z     659857 non-null  float64\n",
      " 24  zphot             659857 non-null  float64\n",
      " 25  dzphot            659857 non-null  float64\n",
      " 26  zphot_avg         659857 non-null  float64\n",
      " 27  zphot_reliable    659857 non-null  int64  \n",
      " 28  e_bv_sfd          659857 non-null  float64\n",
      " 29  primtarget        659857 non-null  int64  \n",
      " 30  sectarget         659857 non-null  int64  \n",
      " 31  targettype        659857 non-null  object \n",
      " 32  spectrotype       659857 non-null  object \n",
      " 33  Column1           659857 non-null  object \n",
      " 34  v_disp            659857 non-null  float64\n",
      " 35  release           659857 non-null  object \n",
      " 36  bptclass          659857 non-null  int64  \n",
      " 37  lgm_tot_p50       659857 non-null  float64\n",
      " 38  sfr_tot_p50       659857 non-null  float64\n",
      " 39  specsfr_tot_p50   659857 non-null  float64\n",
      " 40  oh_p50            659857 non-null  float64\n",
      " 41  logMass_median    659857 non-null  float64\n",
      " 42  ssfr_mean         659857 non-null  float64\n",
      " 43  age_mean          659857 non-null  float64\n",
      " 44  tau_mean          659857 non-null  float64\n",
      " 45  t_age_mean        659857 non-null  float64\n",
      " 46  metallicity_mean  659857 non-null  float64\n",
      " 47  dust1_mean        659857 non-null  float64\n",
      " 48  dust2_mean        659857 non-null  float64\n",
      " 49  EBV               659857 non-null  float64\n",
      " 50  fracDev_r         659857 non-null  float64\n",
      " 51  deVAB_r           659857 non-null  float64\n",
      " 52  deVPhi_r          659857 non-null  float64\n",
      " 53  expAB_r           659857 non-null  float64\n",
      " 54  expPhi_r          659857 non-null  float64\n",
      " 55  petroR90_r        659857 non-null  float64\n",
      " 56  deVRad_r          659857 non-null  float64\n",
      " 57  expRad_r          659857 non-null  float64\n",
      " 58  probPSF_r         659857 non-null  float64\n",
      " 59  extinction_u      659857 non-null  float64\n",
      " 60  extinction_g      659857 non-null  float64\n",
      " 61  extinction_r      659857 non-null  float64\n",
      " 62  extinction_i      659857 non-null  float64\n",
      " 63  extinction_z      659857 non-null  float64\n",
      "dtypes: float64(48), int64(10), object(6)\n",
      "memory usage: 322.2+ MB\n",
      "None\n",
      "          imageID                     specObjID                     bestObjID  \\\n",
      "count 659,857.000                   659,857.000                   659,857.000   \n",
      "mean  329,928.000 1,639,655,949,756,255,232.000 1,237,661,685,389,623,552.000   \n",
      "std   190,484.453   818,870,049,981,948,160.000         5,998,851,264,933.212   \n",
      "min         0.000   299,489,677,444,933,632.000 1,237,645,879,562,928,384.000   \n",
      "25%   164,964.000   918,880,598,943,098,880.000 1,237,657,628,445,966,592.000   \n",
      "50%   329,928.000 1,611,221,640,761,337,856.000 1,237,662,237,467,213,824.000   \n",
      "75%   494,892.000 2,283,369,055,597,389,824.000 1,237,665,532,260,516,352.000   \n",
      "max   659,856.000 3,348,601,497,217,689,600.000 1,237,680,241,438,032,128.000   \n",
      "\n",
      "                z        zErr                         objID        type  \\\n",
      "count 659,857.000 659,857.000                   659,857.000 659,857.000   \n",
      "mean        0.149       0.000 1,237,661,685,389,623,552.000       3.000   \n",
      "std         0.109       0.001         5,998,851,264,933.212       0.000   \n",
      "min         0.000       0.000 1,237,645,879,562,928,384.000       3.000   \n",
      "25%         0.076       0.000 1,237,657,628,445,966,592.000       3.000   \n",
      "50%         0.117       0.000 1,237,662,237,467,213,824.000       3.000   \n",
      "75%         0.178       0.000 1,237,665,532,260,516,352.000       3.000   \n",
      "max         0.966       0.554 1,237,680,241,438,032,128.000       3.000   \n",
      "\n",
      "                              flags          ra         dec  ...    expPhi_r  \\\n",
      "count                   659,857.000 659,857.000 659,857.000  ... 659,857.000   \n",
      "mean        759,835,084,622,838.125     180.268      22.774  ...      90.395   \n",
      "std      16,416,809,944,693,736.000      69.995      19.128  ...      55.785   \n",
      "min                 268,435,456.000       0.001     -11.253  ...     -92.007   \n",
      "25%             251,524,153,344.000     145.000       6.225  ...      47.037   \n",
      "50%          35,253,360,136,208.000     183.572      20.611  ...      91.190   \n",
      "75%          35,255,507,619,856.000     221.965      37.081  ...     133.847   \n",
      "max   1,154,082,629,956,534,528.000     359.998      70.269  ...     256.478   \n",
      "\n",
      "       petroR90_r    deVRad_r    expRad_r   probPSF_r  extinction_u  \\\n",
      "count 659,857.000 659,857.000 659,857.000 659,857.000   659,857.000   \n",
      "mean        6.095       4.194       2.157       0.000         0.177   \n",
      "std        21.569       3.905       1.592       0.022         0.128   \n",
      "min    -9,999.000       0.000       0.000       0.000         0.015   \n",
      "25%         4.349       1.792       1.193       0.000         0.098   \n",
      "50%         5.522       2.802       1.632       0.000         0.144   \n",
      "75%         7.067       5.130       2.661       0.000         0.215   \n",
      "max       233.438      29.685      59.353       1.000         2.801   \n",
      "\n",
      "       extinction_g  extinction_r  extinction_i  extinction_z  \n",
      "count   659,857.000   659,857.000   659,857.000   659,857.000  \n",
      "mean          0.130         0.094         0.072         0.051  \n",
      "std           0.095         0.069         0.052         0.037  \n",
      "min           0.011         0.008         0.006         0.004  \n",
      "25%           0.072         0.052         0.040         0.028  \n",
      "50%           0.106         0.077         0.058         0.041  \n",
      "75%           0.158         0.115         0.087         0.062  \n",
      "max           2.061         1.495         1.133         0.803  \n",
      "\n",
      "[8 rows x 58 columns]\n",
      "Memory usage:\n",
      " Index                128\n",
      "imageID          5278856\n",
      "specObjID        5278856\n",
      "bestObjID        5278856\n",
      "class           60706844\n",
      "                  ...   \n",
      "extinction_u     5278856\n",
      "extinction_g     5278856\n",
      "extinction_r     5278856\n",
      "extinction_i     5278856\n",
      "extinction_z     5278856\n",
      "Length: 65, dtype: int64\n"
     ]
    }
   ],
   "source": [
    "import pandas as pd\n",
    "\n",
    "df_labels = pd.read_csv('../data/sdss_labels.csv')\n",
    "\n",
    "print(\"Shape:\", df_labels.shape)\n",
    "\n",
    "print(df_labels.info())\n",
    "\n",
    "print(df_labels.describe())\n",
    "\n",
    "print(\"Memory usage:\\n\", df_labels.memory_usage(deep=True))"
   ]
  },
  {
   "cell_type": "markdown",
   "id": "98a89e9f",
   "metadata": {},
   "source": [
    "# Propersties selection"
   ]
  },
  {
   "cell_type": "markdown",
   "id": "ebefc3d8",
   "metadata": {},
   "source": [
    "## 1. Preliminary classification of all properties"
   ]
  },
  {
   "cell_type": "markdown",
   "id": "2290d186",
   "metadata": {},
   "source": [
    "### 1.1 Identity/Index class"
   ]
  },
  {
   "cell_type": "code",
   "execution_count": 46,
   "id": "74537992",
   "metadata": {},
   "outputs": [],
   "source": [
    "id_fields = [\n",
    "    \"imageID\", \"specObjID\", \"bestObjID\", \"objID\"\n",
    "]"
   ]
  },
  {
   "cell_type": "markdown",
   "id": "806d42ce",
   "metadata": {},
   "source": [
    "Pure database index or unique identifier, without physical meaning, does not participate in causal analysis. So in this case we'll just keep the \"imageID\""
   ]
  },
  {
   "cell_type": "markdown",
   "id": "db82b0a3",
   "metadata": {},
   "source": [
    "### 1.2 Classification/marking category"
   ]
  },
  {
   "cell_type": "markdown",
   "id": "b35070ae",
   "metadata": {},
   "source": [
    "**class, subClass, type:** Classification of celestial objects such as galaxies, stars, quasars, etc. <br />\n",
    "**flags**: Data quality or observation flags <br />\n",
    "**primtarget, sectarget, targettype:** The targettype of the observation, which may relate to the purpose of the observation or how it was selected <br />\n",
    "**spectrotype, bptclass:** Classification of spectral types and BPT to distinguish between different astrophysical properties"
   ]
  },
  {
   "cell_type": "code",
   "execution_count": 47,
   "id": "c6f8062b",
   "metadata": {},
   "outputs": [],
   "source": [
    "class_fields = [\n",
    "    \"class\", \"subClass\", \"type\", \"flags\",\n",
    "    \"primtarget\", \"sectarget\", \"targettype\",\n",
    "    \"spectrotype\", \"bptclass\", \"release\"\n",
    "]"
   ]
  },
  {
   "cell_type": "markdown",
   "id": "1b3b30a1",
   "metadata": {},
   "source": [
    "These are artificially defined classification labels or observation markers, usually outcome variables rather than causal characteristics. It should not be retained. (?) It can be used as the classification basis for group discussions when studying causal inference."
   ]
  },
  {
   "cell_type": "markdown",
   "id": "dc771250",
   "metadata": {},
   "source": [
    "### 1.3 celestial coordinates"
   ]
  },
  {
   "cell_type": "markdown",
   "id": "189aa7fc",
   "metadata": {},
   "source": [
    "**ra, dec:**\tRight ascension and declination, positions in the celestial coordinate system<br/>\n",
    "**l, b:**\tLongitude and latitude in the galactic coordinate system"
   ]
  },
  {
   "cell_type": "code",
   "execution_count": 48,
   "id": "a8b2bbbc",
   "metadata": {},
   "outputs": [],
   "source": [
    "pos_fields = [\"ra\", \"dec\", \"l\", \"b\"]"
   ]
  },
  {
   "cell_type": "markdown",
   "id": "57ed3302",
   "metadata": {},
   "source": [
    "### 1.4 Photometry and magnitude"
   ]
  },
  {
   "cell_type": "markdown",
   "id": "8d95482c",
   "metadata": {},
   "source": [
    "**dered_petro_*：** Reddened Petrosian magnitude has been eliminated<br/>\n",
    "**petroMagErr_*：** Petrosian magnitude error<br/>\n",
    "These variables represent the brightness measurements of celestial bodies in different bands and have corrected for the extinction effect of the Milky Way. It is used to calculate color, luminosity, etc., and then estimate physical parameters such as mass and age."
   ]
  },
  {
   "cell_type": "code",
   "execution_count": 49,
   "id": "cfb87caf",
   "metadata": {},
   "outputs": [],
   "source": [
    "# Luminosity\n",
    "phot_mag_fields = [\n",
    "    \"dered_petro_u\", \"dered_petro_g\", \"dered_petro_r\",\n",
    "    \"dered_petro_i\", \"dered_petro_z\"\n",
    "]\n",
    "\n",
    "# Magnitude error\n",
    "phot_err_fields = [\n",
    "    \"petroMagErr_u\", \"petroMagErr_g\", \"petroMagErr_r\",\n",
    "    \"petroMagErr_i\", \"petroMagErr_z\"\n",
    "]"
   ]
  },
  {
   "cell_type": "markdown",
   "id": "1c917b53",
   "metadata": {},
   "source": [
    "The sample size is large enough that the effect of error can be neglected. Simply use the corrected magnitude (dered_petro_*) and remove error fields to simplify the model.\n",
    "\n",
    "I examined the statistical characteristics of the error again. The Pearson correlation coefficient and its statistical significance between photometric measurement error (**petroMagErr_**) and key variables were investigated. The total mass of galaxies  (**lgm_tot_p50**) and the star formation rate (**sfr_tot_p50**) are used here. Decide whether to retain based on the result."
   ]
  },
  {
   "cell_type": "code",
   "execution_count": 50,
   "id": "72602bd0",
   "metadata": {},
   "outputs": [
    {
     "name": "stdout",
     "output_type": "stream",
     "text": [
      "  error_field      target  pearson_r  p_value\n",
      "petroMagErr_u lgm_tot_p50     -0.001    0.449\n",
      "petroMagErr_u sfr_tot_p50     -0.000    0.779\n",
      "petroMagErr_g lgm_tot_p50     -0.004    0.000\n",
      "petroMagErr_g sfr_tot_p50     -0.005    0.000\n",
      "petroMagErr_r lgm_tot_p50     -0.071    0.000\n",
      "petroMagErr_r sfr_tot_p50     -0.067    0.000\n",
      "petroMagErr_i lgm_tot_p50     -0.004    0.004\n",
      "petroMagErr_i sfr_tot_p50     -0.006    0.000\n",
      "petroMagErr_z lgm_tot_p50     -0.021    0.000\n",
      "petroMagErr_z sfr_tot_p50     -0.022    0.000\n"
     ]
    }
   ],
   "source": [
    "import numpy as np\n",
    "import pandas as pd\n",
    "from scipy.stats import pearsonr\n",
    "\n",
    "target_fields = [\"lgm_tot_p50\", \"sfr_tot_p50\"]\n",
    "\n",
    "# Convert the values\n",
    "all_fields = phot_err_fields + target_fields\n",
    "df_labels[all_fields] = df_labels[all_fields].apply(\n",
    "    lambda col: pd.to_numeric(col, errors=\"coerce\")\n",
    ")\n",
    "df_clean = df_labels.dropna(subset=all_fields).reset_index(drop=True)\n",
    "\n",
    "# Calculate the correlation coefficient and p-value\n",
    "results = []\n",
    "for err_field in phot_err_fields:\n",
    "    for tgt in target_fields:\n",
    "        x = df_clean[err_field].values\n",
    "        y = df_clean[tgt].values\n",
    "        r, p = pearsonr(x, y)\n",
    "        results.append({\n",
    "            \"error_field\": err_field,\n",
    "            \"target\":      tgt,\n",
    "            \"pearson_r\":   r,\n",
    "            \"p_value\":     p\n",
    "        })\n",
    "\n",
    "res_df = pd.DataFrame(results)\n",
    "print(res_df.to_string(index=False))\n"
   ]
  },
  {
   "cell_type": "markdown",
   "id": "8fa32642",
   "metadata": {},
   "source": [
    "Based on the results, we can see that all error fields show weak negative correlations, but the absolute values of all correlation coefficients are between 0.08 and 0.20, indicating very weak correlations. All p-values were well below 0.05 (most < 10⁻³), indicating that these negative correlations are real and not accidental. So the error fields can be removed to simplify the model."
   ]
  },
  {
   "cell_type": "markdown",
   "id": "087f5306",
   "metadata": {},
   "source": [
    "### 1.5 Redshift related"
   ]
  },
  {
   "cell_type": "markdown",
   "id": "81d2c1b0",
   "metadata": {},
   "source": [
    "**z:** spectral redshift, which measures the distance and cosmological time of the celestial body<br/>\n",
    "**zErr:** Uncertainty about the redshift<br/>\n",
    "**zphot, dzphot, zphot_avg, zphot_reliable:** photometric redshift and its related parameters, redshift estimated based on photometry<br/>"
   ]
  },
  {
   "cell_type": "code",
   "execution_count": 51,
   "id": "b2da478b",
   "metadata": {},
   "outputs": [],
   "source": [
    "redshift_fields = [\n",
    "    \"z\", \"zErr\", \"zphot\", \"dzphot\", \"zphot_avg\", \"zphot_reliable\"\n",
    "]"
   ]
  },
  {
   "cell_type": "markdown",
   "id": "a0a783e5",
   "metadata": {},
   "source": [
    "### 1.6 Matte/dust"
   ]
  },
  {
   "cell_type": "markdown",
   "id": "e3ce2f33",
   "metadata": {},
   "source": [
    "**e_bv_sfd, EBV:** Degree of extinction<br/>\n",
    "**extinction_*:** Extinction coefficients for different bands<br/>\n",
    "**dust1_mean, dust2_mean:** Dust parameters, which may involve dust properties within galaxies"
   ]
  },
  {
   "cell_type": "code",
   "execution_count": 52,
   "id": "a4b8b704",
   "metadata": {},
   "outputs": [],
   "source": [
    "extinction_fields = [\n",
    "    \"e_bv_sfd\", \"dust1_mean\", \"dust2_mean\", \"EBV\",\n",
    "    \"extinction_u\", \"extinction_g\", \"extinction_r\",\n",
    "    \"extinction_i\", \"extinction_z\"\n",
    "]"
   ]
  },
  {
   "cell_type": "markdown",
   "id": "0c1447d8",
   "metadata": {},
   "source": [
    "### 1.7 Physical quantities (mass, SFR, metallicity, etc.)"
   ]
  },
  {
   "cell_type": "markdown",
   "id": "31527433",
   "metadata": {},
   "source": [
    "**lgm_tot_p50, logMass_median:** Mass, an estimate of the total or stellar mass of the galaxy.<br/>\n",
    "**sfr_tot_p50, specsfr_tot_p50, ssfr_mean:** total and specific star formation rates<br/>\n",
    "**age_mean, t_age_mean, tau_mean:** The average age and time scale of an aged galaxy or star population.<br/>\n",
    "**oh_p50, metallicity_mean:** Metallicity indicates the metal content of the galaxy.<br/>\n",
    "**v_disp:** Velocity dispersion, which represents the velocity distribution of the motion of stars or gas in the galaxy and reflects the dynamical state of the galaxy."
   ]
  },
  {
   "cell_type": "code",
   "execution_count": 53,
   "id": "061de481",
   "metadata": {},
   "outputs": [],
   "source": [
    "physical_fields = [\n",
    "    \"lgm_tot_p50\", \"sfr_tot_p50\", \"specsfr_tot_p50\", \"oh_p50\",\n",
    "    \"logMass_median\", \"ssfr_mean\", \"age_mean\", \"tau_mean\",\n",
    "    \"t_age_mean\", \"metallicity_mean\", \"v_disp\"\n",
    "]"
   ]
  },
  {
   "cell_type": "markdown",
   "id": "1aeb4642",
   "metadata": {},
   "source": [
    "# PCA"
   ]
  },
  {
   "cell_type": "code",
   "execution_count": 54,
   "id": "4ffad016",
   "metadata": {},
   "outputs": [
    {
     "name": "stdout",
     "output_type": "stream",
     "text": [
      "Explained variance ratio (PC1, PC2): [0.36747824 0.27555256]\n",
      "PC1 loadings (u-g, g-r, r-i, i-z): [0.44809734 0.64833261 0.5872071  0.18455738]\n",
      "PC2 loadings (u-g, g-r, r-i, i-z): [ 0.02890605  0.15477161 -0.46650287  0.87039374]\n",
      "Generated color_pc1_resid (orthogonalized to EBV).\n"
     ]
    }
   ],
   "source": [
    "\"\"\"\n",
    "PCA Color Components from dered magnitudes\n",
    "\n",
    "Goal\n",
    "----\n",
    "1) Use dered_petro_{u,g,r,i,z} to form color vectors [u-g, g-r, r-i, i-z].\n",
    "2) Perform PCA in color space to obtain color_pc1 (optionally color_pc2).\n",
    "3) If EBV exists, additionally construct color_pc1_resid by linearly orthogonalizing PC1 to EBV.\n",
    "\"\"\"\n",
    "\n",
    "import numpy as np\n",
    "import pandas as pd\n",
    "from sklearn.decomposition import PCA\n",
    "from sklearn.preprocessing import StandardScaler\n",
    "import statsmodels.api as sm\n",
    "\n",
    "\n",
    "# ---------------------------------------------------------------------\n",
    "# -- Required columns --\n",
    "# ---------------------------------------------------------------------\n",
    "bands = [\"dered_petro_u\",\"dered_petro_g\",\"dered_petro_r\",\"dered_petro_i\",\"dered_petro_z\"]\n",
    "missing = [c for c in bands if c not in df_labels.columns]\n",
    "if missing:\n",
    "    raise ValueError(f\"Missing columns: {missing}\")\n",
    "\n",
    "# Only run PCA for rows with complete five-band measurements\n",
    "M = df_labels[bands].dropna().copy()\n",
    "\n",
    "# ---------------------------------------------------------------------\n",
    "# Path A: perform PCA on color vectors (avoid brightness/distance components)\n",
    "# ---------------------------------------------------------------------\n",
    "C = pd.DataFrame({\n",
    "    \"u_g\": M[\"dered_petro_u\"] - M[\"dered_petro_g\"],\n",
    "    \"g_r\": M[\"dered_petro_g\"] - M[\"dered_petro_r\"],\n",
    "    \"r_i\": M[\"dered_petro_r\"] - M[\"dered_petro_i\"],\n",
    "    \"i_z\": M[\"dered_petro_i\"] - M[\"dered_petro_z\"],\n",
    "}, index=M.index)\n",
    "\n",
    "# Standardize -> PCA on the correlation matrix to prevent any dimension from dominating\n",
    "Z = StandardScaler(with_mean=True, with_std=True).fit_transform(C.values)\n",
    "\n",
    "# PCA (typically keep the first 2 PCs; most models only need PC1)\n",
    "pca = PCA(n_components=2, random_state=0)\n",
    "PC = pca.fit_transform(Z)\n",
    "\n",
    "# ---------------------------------------------------------------------\n",
    "# Write back to df (keep other rows as NaN to align with other variables)\n",
    "# ---------------------------------------------------------------------\n",
    "df_labels[\"color_pc1\"] = np.nan\n",
    "df_labels[\"color_pc2\"] = np.nan\n",
    "df_labels.loc[C.index, \"color_pc1\"] = PC[:, 0]\n",
    "df_labels.loc[C.index, \"color_pc2\"] = PC[:, 1]\n",
    "\n",
    "print(\"Explained variance ratio (PC1, PC2):\", pca.explained_variance_ratio_)\n",
    "print(\"PC1 loadings (u-g, g-r, r-i, i-z):\", pca.components_[0])\n",
    "print(\"PC2 loadings (u-g, g-r, r-i, i-z):\", pca.components_[1])\n",
    "\n",
    "# ---------------------------------------------------------------------\n",
    "# (Optional) Orthogonalize PC1 with respect to EBV to obtain a 'dust-linear-invariant' axis\n",
    "# ---------------------------------------------------------------------\n",
    "if \"EBV\" in df_labels.columns:\n",
    "    idx = df_labels[[\"color_pc1\",\"EBV\"]].dropna().index\n",
    "    X = sm.add_constant(df_labels.loc[idx, \"EBV\"].values)\n",
    "    y = df_labels.loc[idx, \"color_pc1\"].values\n",
    "    beta = np.linalg.lstsq(X, y, rcond=None)[0]\n",
    "    resid = y - X.dot(beta)\n",
    "    df_labels[\"color_pc1_resid\"] = np.nan\n",
    "    df_labels.loc[idx, \"color_pc1_resid\"] = resid\n",
    "    print(\"Generated color_pc1_resid (orthogonalized to EBV).\")\n"
   ]
  },
  {
   "cell_type": "markdown",
   "id": "605caaa0",
   "metadata": {},
   "source": [
    "# VIF"
   ]
  },
  {
   "cell_type": "code",
   "execution_count": 55,
   "id": "6e002d19",
   "metadata": {},
   "outputs": [
    {
     "name": "stdout",
     "output_type": "stream",
     "text": [
      "[INFO] Sample size for VIF: 659857 rows, variables: 8 columns\n",
      "\n",
      "=== Variance Inflation Factors (descending) ===\n",
      "            feature         VIF  R2_others\n",
      "0    logMass_median 964,468.669      1.000\n",
      "1  metallicity_mean 822,081.681      1.000\n",
      "2          age_mean  56,934.706      1.000\n",
      "3         ssfr_mean   7,369.297      1.000\n",
      "4         color_pc1       3.102      0.678\n",
      "5                 z       2.759      0.638\n",
      "6            v_disp       1.832      0.454\n",
      "7            oh_p50       1.616      0.381\n",
      "\n",
      "[NOTE] Variables with VIF > 10.0 (potential strong multicollinearity):\n",
      "         feature         VIF\n",
      "  logMass_median 964,468.669\n",
      "metallicity_mean 822,081.681\n",
      "        age_mean  56,934.706\n",
      "       ssfr_mean   7,369.297\n",
      "\n",
      "[OK] Saved -> vif_report.csv\n"
     ]
    }
   ],
   "source": [
    "import numpy as np\n",
    "import pandas as pd\n",
    "import statsmodels.api as sm\n",
    "from statsmodels.stats.outliers_influence import variance_inflation_factor\n",
    "from pathlib import Path\n",
    "\n",
    "# ---------------------------------------------------------------------\n",
    "# === Configuration ===\n",
    "# ---------------------------------------------------------------------\n",
    "selected_features = [\n",
    "    'z',\n",
    "    'color_pc1',\n",
    "    'oh_p50',\n",
    "    'logMass_median',\n",
    "    'v_disp',\n",
    "    'age_mean',\n",
    "    'ssfr_mean',\n",
    "    'metallicity_mean',\n",
    "]\n",
    "\n",
    "id_like_cols = {'specObjID'}      # ID / non-physical columns to exclude\n",
    "vif_threshold = 10.0               # common threshold (could use 5 or 20)\n",
    "\n",
    "# ---------------------------------------------------------------------\n",
    "# === 1) Load & clean (keep numeric & complete rows only) ===\n",
    "# ---------------------------------------------------------------------\n",
    "use_cols = [c for c in selected_features if c not in id_like_cols]\n",
    "missing = [c for c in use_cols if c not in df_labels.columns]\n",
    "if missing:\n",
    "    raise ValueError(f\"Missing columns in data: {missing}\")\n",
    "\n",
    "X = df_labels[use_cols].copy()\n",
    "\n",
    "# Cast to numeric; coerce non-numeric to NaN; keep only complete rows\n",
    "for c in X.columns:\n",
    "    X[c] = pd.to_numeric(X[c], errors='coerce')\n",
    "X = X.dropna(axis=0, how='any').copy()\n",
    "\n",
    "# Drop constant-variance (std = 0) columns, if any\n",
    "const_cols = [c for c in X.columns if X[c].std(ddof=0) == 0]\n",
    "if const_cols:\n",
    "    print(f\"[WARN] The following columns are constant and excluded from VIF: {const_cols}\")\n",
    "    X = X.drop(columns=const_cols)\n",
    "\n",
    "# Warn if sample size is small\n",
    "print(f\"[INFO] Sample size for VIF: {len(X)} rows, variables: {X.shape[1]} columns\")\n",
    "\n",
    "# ---------------------------------------------------------------------\n",
    "# === 2) Compute VIF ===\n",
    "# ---------------------------------------------------------------------\n",
    "X_const = sm.add_constant(X, has_constant='add')\n",
    "\n",
    "vif_rows = []\n",
    "for i, col in enumerate(X_const.columns):\n",
    "    if col == 'const':\n",
    "        continue\n",
    "    vif_val = variance_inflation_factor(X_const.values, i)\n",
    "    # From VIF = 1/(1 - R^2), we get R^2 = 1 - 1/VIF\n",
    "    r2_val = 1.0 - 1.0/float(vif_val) if vif_val > 1 else 0.0\n",
    "    vif_rows.append({\"feature\": col, \"VIF\": float(vif_val), \"R2_others\": float(r2_val)})\n",
    "\n",
    "vif_df = pd.DataFrame(vif_rows).sort_values(\"VIF\", ascending=False).reset_index(drop=True)\n",
    "\n",
    "# ---------------------------------------------------------------------\n",
    "# === 3) Output & save ===\n",
    "# ---------------------------------------------------------------------\n",
    "pd.set_option('display.float_format', lambda x: f\"{x:,.3f}\")\n",
    "print(\"\\n=== Variance Inflation Factors (descending) ===\")\n",
    "print(vif_df)\n",
    "\n",
    "high = vif_df[vif_df[\"VIF\"] > vif_threshold]\n",
    "if not high.empty:\n",
    "    print(f\"\\n[NOTE] Variables with VIF > {vif_threshold:.1f} (potential strong multicollinearity):\")\n",
    "    print(high[[\"feature\",\"VIF\"]].to_string(index=False))\n",
    "\n",
    "vif_df.to_csv(\"vif_report.csv\", index=False)\n",
    "print(\"\\n[OK] Saved -> vif_report.csv\")\n"
   ]
  },
  {
   "cell_type": "markdown",
   "id": "2bbcb67c",
   "metadata": {},
   "source": [
    "Rerun the VIF after flitering High related features."
   ]
  },
  {
   "cell_type": "code",
   "execution_count": 56,
   "id": "642708a9",
   "metadata": {},
   "outputs": [
    {
     "name": "stdout",
     "output_type": "stream",
     "text": [
      "[INFO] Sample size for VIF: 659857 rows, variables: 5 columns\n",
      "\n",
      "=== Variance Inflation Factors (descending) ===\n",
      "          feature   VIF  R2_others\n",
      "0       color_pc1 2.388      0.581\n",
      "1               z 2.127      0.530\n",
      "2          v_disp 1.643      0.391\n",
      "3          oh_p50 1.377      0.274\n",
      "4  logMass_median 1.008      0.008\n",
      "\n",
      "[OK] Saved -> vif_report.csv\n"
     ]
    }
   ],
   "source": [
    "# ---------------------------------------------------------------------\n",
    "# === Configuration ===\n",
    "# ---------------------------------------------------------------------\n",
    "afterfilteringfeatures = [\n",
    "    'z',\n",
    "    'color_pc1',\n",
    "    'oh_p50',\n",
    "    'logMass_median',\n",
    "    'v_disp'\n",
    "]\n",
    "\n",
    "vif_threshold = 10.0               # common threshold (could use 5 or 20)\n",
    "\n",
    "# ---------------------------------------------------------------------\n",
    "# === 1) Load & clean (keep numeric & complete rows only) ===\n",
    "# ---------------------------------------------------------------------\n",
    "use_cols = [c for c in afterfilteringfeatures if c not in id_like_cols]\n",
    "missing = [c for c in use_cols if c not in df_labels.columns]\n",
    "if missing:\n",
    "    raise ValueError(f\"Missing columns in data: {missing}\")\n",
    "\n",
    "X = df_labels[use_cols].copy()\n",
    "\n",
    "# Cast to numeric; coerce non-numeric to NaN; keep only complete rows\n",
    "for c in X.columns:\n",
    "    X[c] = pd.to_numeric(X[c], errors='coerce')\n",
    "X = X.dropna(axis=0, how='any').copy()\n",
    "\n",
    "# Drop constant-variance (std = 0) columns, if any\n",
    "const_cols = [c for c in X.columns if X[c].std(ddof=0) == 0]\n",
    "if const_cols:\n",
    "    print(f\"[WARN] The following columns are constant and excluded from VIF: {const_cols}\")\n",
    "    X = X.drop(columns=const_cols)\n",
    "\n",
    "# Warn if sample size is small\n",
    "print(f\"[INFO] Sample size for VIF: {len(X)} rows, variables: {X.shape[1]} columns\")\n",
    "\n",
    "# ---------------------------------------------------------------------\n",
    "# === 2) Compute VIF ===\n",
    "# ---------------------------------------------------------------------\n",
    "X_const = sm.add_constant(X, has_constant='add')\n",
    "\n",
    "vif_rows = []\n",
    "for i, col in enumerate(X_const.columns):\n",
    "    if col == 'const':\n",
    "        continue\n",
    "    vif_val = variance_inflation_factor(X_const.values, i)\n",
    "    # From VIF = 1/(1 - R^2), we get R^2 = 1 - 1/VIF\n",
    "    r2_val = 1.0 - 1.0/float(vif_val) if vif_val > 1 else 0.0\n",
    "    vif_rows.append({\"feature\": col, \"VIF\": float(vif_val), \"R2_others\": float(r2_val)})\n",
    "\n",
    "vif_df = pd.DataFrame(vif_rows).sort_values(\"VIF\", ascending=False).reset_index(drop=True)\n",
    "\n",
    "# ---------------------------------------------------------------------\n",
    "# === 3) Output & save ===\n",
    "# ---------------------------------------------------------------------\n",
    "pd.set_option('display.float_format', lambda x: f\"{x:,.3f}\")\n",
    "print(\"\\n=== Variance Inflation Factors (descending) ===\")\n",
    "print(vif_df)\n",
    "\n",
    "high = vif_df[vif_df[\"VIF\"] > vif_threshold]\n",
    "if not high.empty:\n",
    "    print(f\"\\n[NOTE] Variables with VIF > {vif_threshold:.1f} (potential strong multicollinearity):\")\n",
    "    print(high[[\"feature\",\"VIF\"]].to_string(index=False))\n",
    "\n",
    "vif_df.to_csv(\"vif_report.csv\", index=False)\n",
    "print(\"\\n[OK] Saved -> vif_report.csv\")\n"
   ]
  },
  {
   "cell_type": "code",
   "execution_count": 57,
   "id": "9fd0830c",
   "metadata": {},
   "outputs": [
    {
     "name": "stdout",
     "output_type": "stream",
     "text": [
      "Selected main_morph features saved to ../data/features_sdss.csv\n"
     ]
    }
   ],
   "source": [
    "# Save the selected features to a CSV file\n",
    "output_path = Path(\"../data/features_sdss.csv\")\n",
    "df_labels[selected_features].to_csv(output_path, index=False)\n",
    "print(f\"Selected main_morph features saved to {output_path}\")"
   ]
  },
  {
   "cell_type": "code",
   "execution_count": 58,
   "id": "cf364faf",
   "metadata": {},
   "outputs": [
    {
     "data": {
      "text/html": [
       "<div>\n",
       "<style scoped>\n",
       "    .dataframe tbody tr th:only-of-type {\n",
       "        vertical-align: middle;\n",
       "    }\n",
       "\n",
       "    .dataframe tbody tr th {\n",
       "        vertical-align: top;\n",
       "    }\n",
       "\n",
       "    .dataframe thead th {\n",
       "        text-align: right;\n",
       "    }\n",
       "</style>\n",
       "<table border=\"1\" class=\"dataframe\">\n",
       "  <thead>\n",
       "    <tr style=\"text-align: right;\">\n",
       "      <th></th>\n",
       "      <th>z</th>\n",
       "      <th>color_pc1</th>\n",
       "      <th>oh_p50</th>\n",
       "      <th>logMass_median</th>\n",
       "      <th>v_disp</th>\n",
       "      <th>age_mean</th>\n",
       "      <th>ssfr_mean</th>\n",
       "      <th>metallicity_mean</th>\n",
       "    </tr>\n",
       "  </thead>\n",
       "  <tbody>\n",
       "    <tr>\n",
       "      <th>0</th>\n",
       "      <td>0.132</td>\n",
       "      <td>0.154</td>\n",
       "      <td>-9,999.000</td>\n",
       "      <td>11.089</td>\n",
       "      <td>144.341</td>\n",
       "      <td>5.381</td>\n",
       "      <td>-11.812</td>\n",
       "      <td>0.010</td>\n",
       "    </tr>\n",
       "    <tr>\n",
       "      <th>1</th>\n",
       "      <td>0.074</td>\n",
       "      <td>-0.089</td>\n",
       "      <td>-9,999.000</td>\n",
       "      <td>10.542</td>\n",
       "      <td>153.588</td>\n",
       "      <td>7.522</td>\n",
       "      <td>-14.603</td>\n",
       "      <td>0.008</td>\n",
       "    </tr>\n",
       "    <tr>\n",
       "      <th>2</th>\n",
       "      <td>0.110</td>\n",
       "      <td>-1.273</td>\n",
       "      <td>8.796</td>\n",
       "      <td>9.609</td>\n",
       "      <td>0.000</td>\n",
       "      <td>2.422</td>\n",
       "      <td>-0.611</td>\n",
       "      <td>0.012</td>\n",
       "    </tr>\n",
       "    <tr>\n",
       "      <th>3</th>\n",
       "      <td>0.298</td>\n",
       "      <td>-0.252</td>\n",
       "      <td>-9,999.000</td>\n",
       "      <td>10.913</td>\n",
       "      <td>38.984</td>\n",
       "      <td>4.432</td>\n",
       "      <td>-0.936</td>\n",
       "      <td>0.018</td>\n",
       "    </tr>\n",
       "    <tr>\n",
       "      <th>4</th>\n",
       "      <td>0.589</td>\n",
       "      <td>2.759</td>\n",
       "      <td>-9,999.000</td>\n",
       "      <td>11.546</td>\n",
       "      <td>257.975</td>\n",
       "      <td>2.377</td>\n",
       "      <td>-3.538</td>\n",
       "      <td>0.011</td>\n",
       "    </tr>\n",
       "    <tr>\n",
       "      <th>...</th>\n",
       "      <td>...</td>\n",
       "      <td>...</td>\n",
       "      <td>...</td>\n",
       "      <td>...</td>\n",
       "      <td>...</td>\n",
       "      <td>...</td>\n",
       "      <td>...</td>\n",
       "      <td>...</td>\n",
       "    </tr>\n",
       "    <tr>\n",
       "      <th>659852</th>\n",
       "      <td>0.184</td>\n",
       "      <td>-1.104</td>\n",
       "      <td>9.001</td>\n",
       "      <td>10.683</td>\n",
       "      <td>120.374</td>\n",
       "      <td>1.954</td>\n",
       "      <td>-0.466</td>\n",
       "      <td>0.009</td>\n",
       "    </tr>\n",
       "    <tr>\n",
       "      <th>659853</th>\n",
       "      <td>0.051</td>\n",
       "      <td>-1.463</td>\n",
       "      <td>8.685</td>\n",
       "      <td>9.316</td>\n",
       "      <td>13.052</td>\n",
       "      <td>2.769</td>\n",
       "      <td>-0.670</td>\n",
       "      <td>0.012</td>\n",
       "    </tr>\n",
       "    <tr>\n",
       "      <th>659854</th>\n",
       "      <td>0.088</td>\n",
       "      <td>-0.181</td>\n",
       "      <td>-9,999.000</td>\n",
       "      <td>10.789</td>\n",
       "      <td>93.054</td>\n",
       "      <td>6.141</td>\n",
       "      <td>-2.270</td>\n",
       "      <td>0.014</td>\n",
       "    </tr>\n",
       "    <tr>\n",
       "      <th>659855</th>\n",
       "      <td>0.119</td>\n",
       "      <td>0.346</td>\n",
       "      <td>-9,999.000</td>\n",
       "      <td>11.024</td>\n",
       "      <td>161.542</td>\n",
       "      <td>4.672</td>\n",
       "      <td>-3.464</td>\n",
       "      <td>0.019</td>\n",
       "    </tr>\n",
       "    <tr>\n",
       "      <th>659856</th>\n",
       "      <td>0.126</td>\n",
       "      <td>0.279</td>\n",
       "      <td>-9,999.000</td>\n",
       "      <td>11.163</td>\n",
       "      <td>211.207</td>\n",
       "      <td>8.059</td>\n",
       "      <td>-15.767</td>\n",
       "      <td>0.012</td>\n",
       "    </tr>\n",
       "  </tbody>\n",
       "</table>\n",
       "<p>659857 rows × 8 columns</p>\n",
       "</div>"
      ],
      "text/plain": [
       "           z  color_pc1     oh_p50  logMass_median  v_disp  age_mean  \\\n",
       "0      0.132      0.154 -9,999.000          11.089 144.341     5.381   \n",
       "1      0.074     -0.089 -9,999.000          10.542 153.588     7.522   \n",
       "2      0.110     -1.273      8.796           9.609   0.000     2.422   \n",
       "3      0.298     -0.252 -9,999.000          10.913  38.984     4.432   \n",
       "4      0.589      2.759 -9,999.000          11.546 257.975     2.377   \n",
       "...      ...        ...        ...             ...     ...       ...   \n",
       "659852 0.184     -1.104      9.001          10.683 120.374     1.954   \n",
       "659853 0.051     -1.463      8.685           9.316  13.052     2.769   \n",
       "659854 0.088     -0.181 -9,999.000          10.789  93.054     6.141   \n",
       "659855 0.119      0.346 -9,999.000          11.024 161.542     4.672   \n",
       "659856 0.126      0.279 -9,999.000          11.163 211.207     8.059   \n",
       "\n",
       "        ssfr_mean  metallicity_mean  \n",
       "0         -11.812             0.010  \n",
       "1         -14.603             0.008  \n",
       "2          -0.611             0.012  \n",
       "3          -0.936             0.018  \n",
       "4          -3.538             0.011  \n",
       "...           ...               ...  \n",
       "659852     -0.466             0.009  \n",
       "659853     -0.670             0.012  \n",
       "659854     -2.270             0.014  \n",
       "659855     -3.464             0.019  \n",
       "659856    -15.767             0.012  \n",
       "\n",
       "[659857 rows x 8 columns]"
      ]
     },
     "execution_count": 58,
     "metadata": {},
     "output_type": "execute_result"
    }
   ],
   "source": [
    "df_labels[selected_features]"
   ]
  },
  {
   "cell_type": "code",
   "execution_count": 59,
   "id": "54c244f0",
   "metadata": {},
   "outputs": [
    {
     "data": {
      "image/png": "[encoded data removed]",
      "text/plain": [
       "<Figure size 2000x1000 with 2 Axes>"
      ]
     },
     "metadata": {},
     "output_type": "display_data"
    }
   ],
   "source": [
    "import seaborn as sns\n",
    "import matplotlib.pyplot as plt\n",
    "\n",
    "corr =df_labels[selected_features].corr()\n",
    "plt.figure(figsize=(20,10))\n",
    "sns.heatmap(corr, annot=True, fmt=\".2f\", cmap=\"vlag\", center=0)\n",
    "plt.title(\"Feature Correlation Heatmap\")\n",
    "plt.show()\n"
   ]
  }
 ],
 "metadata": {
  "kernelspec": {
   "display_name": "sdss",
   "language": "python",
   "name": "python3"
  },
  "language_info": {
   "codemirror_mode": {
    "name": "ipython",
    "version": 3
   },
   "file_extension": ".py",
   "mimetype": "text/x-python",
   "name": "python",
   "nbconvert_exporter": "python",
   "pygments_lexer": "ipython3",
   "version": "3.10.13"
  }
 },
 "nbformat": 4,
 "nbformat_minor": 5
}
